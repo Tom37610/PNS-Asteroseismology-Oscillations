{
 "cells": [
  {
   "cell_type": "markdown",
   "metadata": {},
   "source": [
    "Psuedocode: \n",
    "Create a matrix of length of T/delta T by L/delta X\n",
    "define a c\n",
    "\n",
    "we have the initial \n"
   ]
  },
  {
   "cell_type": "code",
   "execution_count": 31,
   "metadata": {},
   "outputs": [],
   "source": [
    "R = 2 #length\n",
    "T = 1 #Total Time\n",
    "delta_t = .01 #Timestep\n",
    "c = 1 #Wavespeed\n",
    "     \n",
    "delta_r = .01 #Spatial step\n",
    "ntsteps = T/delta_t #number of time steps\n",
    "nrsteps = R/delta_r #number of segments of string\n",
    "nrsteps = Int(nrsteps)\n",
    "ntsteps = Int(ntsteps)\n",
    "using Plots\n",
    "using FFTW"
   ]
  },
  {
   "cell_type": "code",
   "execution_count": 48,
   "metadata": {},
   "outputs": [],
   "source": [
    "gamma = 1.2\n",
    "#Initial Radius\n",
    "r = zeros(nrsteps+2, 1)\n",
    "r[1]= -1*delta_r\n",
    "for i = 1:size(r,1)-1\n",
    "    r[i+1]=r[i]+delta_r\n",
    "end\n",
    "\n",
    "#Time\n",
    "t=zeros(ntsteps+1,1)\n",
    "t[1]=0\n",
    "for i = 1:ntsteps\n",
    "    t[i+1]=t[i]+delta_t\n",
    "end\n",
    "\n",
    "#Equilibrium Quantities\n",
    "\n",
    "#Equilibrium density\n",
    "rho_0 = zeros(nrsteps+2,1)\n",
    "for i = 1:nrsteps+2\n",
    "    rho_0[i] = 10*sin(pi*r[i]/R)/(r[i]/R)\n",
    "end\n",
    "\n",
    "#Equilibrium pressure\n",
    "p_0 = zeros(nrsteps+2,1)\n",
    "for i = 1:nrsteps+2\n",
    "    p_0[i] = rho_0[i]^2\n",
    "end\n",
    "\n",
    "#Mass calculation\n",
    "M = zeros(nrsteps+2,1)\n",
    "M[1] = 0\n",
    "for i = 3:nrsteps+1\n",
    "    M[i+1]=M[i] + (4/3)*pi*(delta_r^3)*rho_0[i]\n",
    "end\n",
    "\n",
    "#Equilibrium Gravity\n",
    "g_0 = zeros(nrsteps+2)\n",
    "for i=1:nrsteps+2\n",
    "    g_0[i]=M[i]/(r[i]^2)\n",
    "end\n",
    "\n",
    "\n",
    "#Zeta_r for normal intervals\n",
    "Z_r = zeros(nrsteps+2,ntsteps+2)\n",
    "for i=1:nrsteps+2\n",
    "    Z_r[i,1:2].=.04*sin(0.1*pi*r[i])\n",
    "end\n",
    "\n",
    "#Initializing the perturbed quantities\n",
    "rho_prime = zeros(nrsteps+1,ntsteps+2)\n",
    "p_prime = zeros(nrsteps+1,ntsteps+2)\n",
    "dp_prime_dr  = zeros(nrsteps+1,ntsteps+2)\n",
    "\n",
    "\n",
    "#Actual Z calculations\n",
    "for j = 1:ntsteps\n",
    "\n",
    "    #rho_prime calculation\n",
    "    for i = 1:nrsteps+1\n",
    "        rho_prime[i,j+1] = (-1/((r[i+1]^2)*delta_r))*(((r[i+1]^2)*rho_0[Int(i+1)]*Z_r[i+1,j])-(r[i]^2)*rho_0[i]*Z_r[i,j])\n",
    "    end\n",
    "    \n",
    "   #pprime calculation\n",
    "    for i = 1:nrsteps+1\n",
    "        p_prime[i,j] = gamma*p_0[i]/rho_0[i] * rho_prime[i,j]\n",
    "    end\n",
    "    \n",
    "    #dP/dR at normal i\n",
    "    for i = 1:nrsteps\n",
    "        dp_prime_dr[i,j] = (p_prime[i+1,j]-p_prime[i,j])/delta_r\n",
    "    end\n",
    "    \n",
    "    #d^2Z/dt^2\n",
    "    #Boundary condition for the surface\n",
    "    Z_r[size(Z_r,1),j+2]=Z_r[size(Z_r,1)-1,j+2]-delta_r*(2/r[size(Z_r,1)-1])*Z_r[size(Z_r,1)-1,j+2]\n",
    "    \n",
    "    #Z_r\n",
    "    for i = 1:nrsteps+1\n",
    "         Z_r[i,j+2] = (2*Z_r[i,j+1]-Z_r[i,j]+(delta_t^2)*(dp_prime_dr[i]-rho_prime[i,j+1]*g_0[i]))/rho_0[i] \n",
    "    end\n",
    "    Z_r[size(Z_r,1),j+2]=Z_r[size(Z_r,1)-1,j+2]-delta_r*(2/r[size(Z_r,1)-1])*Z_r[size(Z_r,1)-1,j+2]\n",
    "end\n"
   ]
  },
  {
   "cell_type": "code",
   "execution_count": 49,
   "metadata": {},
   "outputs": [
    {
     "data": {
      "text/plain": [
       "200"
      ]
     },
     "execution_count": 49,
     "metadata": {},
     "output_type": "execute_result"
    }
   ],
   "source": [
    "nrsteps"
   ]
  },
  {
   "cell_type": "code",
   "execution_count": 50,
   "metadata": {
    "scrolled": true
   },
   "outputs": [
    {
     "data": {
      "text/plain": [
       "202×1 Matrix{Float64}:\n",
       " 986.879268536886\n",
       " NaN\n",
       " 986.879268536886\n",
       " 986.6357858642187\n",
       " 986.2300882044415\n",
       " 985.662335690271\n",
       " 984.9327523889816\n",
       " 984.0416261839621\n",
       " 982.9893086225552\n",
       " 981.7762147302776\n",
       " 980.402822791529\n",
       " 978.8696740969286\n",
       " 977.1773726574297\n",
       "   ⋮\n",
       "   3.3100546482894075\n",
       "   2.7115503437587276\n",
       "   2.17682159606676\n",
       "   1.7044725950177768\n",
       "   1.293094475623591\n",
       "   0.9412663020145853\n",
       "   0.6475560502228321\n",
       "   0.4105215892087434\n",
       "   0.2287116595078222\n",
       "   0.10066684887910156\n",
       "   0.024920564342734014\n",
       "   4.401525826079181e-28"
      ]
     },
     "execution_count": 50,
     "metadata": {},
     "output_type": "execute_result"
    }
   ],
   "source": [
    "p_0\n"
   ]
  },
  {
   "cell_type": "code",
   "execution_count": 52,
   "metadata": {},
   "outputs": [
    {
     "data": {
      "text/plain": [
       "202×102 Matrix{Float64}:\n",
       " -0.000125663  -0.000125663  NaN           …  NaN            NaN\n",
       "  0.0           0.0          NaN              NaN            NaN\n",
       "  0.000125663   0.000125663    4.00016e-6       8.69373e-79    1.07036e-79\n",
       "  0.000251326   0.000251326    8.87373e-6       2.09333e-78    8.71013e-80\n",
       "  0.000376986   0.000376986    1.28535e-5       1.10928e-79   -1.25144e-79\n",
       "  0.000502642   0.000502642    1.67659e-5  …   -9.51913e-79   -1.12917e-79\n",
       "  0.000628293   0.000628293    2.06876e-5      -8.15737e-79   -1.07774e-80\n",
       "  0.000753938   0.000753938    2.46282e-5      -6.21171e-80    1.26305e-79\n",
       "  0.000879575   0.000879575    2.85875e-5       9.92178e-79    2.80901e-79\n",
       "  0.0010052     0.0010052      3.25639e-5       2.21073e-78    4.48438e-79\n",
       "  0.00113082    0.00113082     3.65561e-5  …    3.54147e-78    6.29167e-79\n",
       "  0.00125643    0.00125643     4.05634e-5       4.97082e-78    8.25449e-79\n",
       "  0.00138203    0.00138203     4.45854e-5       6.50376e-78    1.0408e-78\n",
       "  ⋮                                        ⋱    ⋮            \n",
       "  0.0223793     0.0223793      0.0123006   …    7.14162e39     8.67549e40\n",
       "  0.0224833     0.0224833      0.0136537        2.4659e46      2.99552e47\n",
       "  0.0225872     0.0225872      0.015309         8.60126e52     1.04486e54\n",
       "  0.0226908     0.0226908      0.0173801        3.03078e59     3.68173e60\n",
       "  0.0227941     0.0227941      0.020045         1.07882e66     1.31053e67\n",
       "  0.0228973     0.0228973      0.0236007   …    3.8792e72      4.71238e73\n",
       "  0.0230002     0.0230002      0.0285819        1.40907e79     1.71171e80\n",
       "  0.0231029     0.0231029      0.0360575        5.17027e85     6.28074e86\n",
       "  0.0232054     0.0232054      0.0485223        1.91639e92     2.328e93\n",
       "  0.0233076     0.0233076      0.0734602        7.17535e98     8.71646e99\n",
       "  0.0234096     0.0234096      0.14829     …    2.71384e105    3.29672e106\n",
       "  0.0235114     0.0235114      0.1468           2.68657e105    3.26358e106"
      ]
     },
     "execution_count": 52,
     "metadata": {},
     "output_type": "execute_result"
    }
   ],
   "source": [
    "Z_r"
   ]
  },
  {
   "cell_type": "code",
   "execution_count": null,
   "metadata": {},
   "outputs": [],
   "source": []
  },
  {
   "cell_type": "code",
   "execution_count": null,
   "metadata": {},
   "outputs": [],
   "source": []
  }
 ],
 "metadata": {
  "kernelspec": {
   "display_name": "Julia 1.6.1",
   "language": "julia",
   "name": "julia-1.6"
  },
  "language_info": {
   "file_extension": ".jl",
   "mimetype": "application/julia",
   "name": "julia",
   "version": "1.6.1"
  }
 },
 "nbformat": 4,
 "nbformat_minor": 2
}
